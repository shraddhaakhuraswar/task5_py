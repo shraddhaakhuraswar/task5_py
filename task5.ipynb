{
 "cells": [
  {
   "cell_type": "code",
   "execution_count": 15,
   "id": "fa3965f6-e74a-4179-8c60-fcea528dbab7",
   "metadata": {},
   "outputs": [
    {
     "name": "stdout",
     "output_type": "stream",
     "text": [
      "    *\n",
      "   ***\n",
      "  *****\n",
      " *******\n",
      "*********\n"
     ]
    }
   ],
   "source": [
    "# Number of rows in the triangle\n",
    "rows = 5\n",
    "\n",
    "# Loop through each row\n",
    "for i in range(1, rows + 1):\n",
    "    # Print spaces before the stars\n",
    "    for j in range(rows - i):\n",
    "        print(' ', end='')\n",
    "    \n",
    "    # Print stars after the spaces\n",
    "    for k in range(2 * i - 1):\n",
    "        print('*', end='')\n",
    "    \n",
    "    # Move to the next line after each row\n",
    "    print()\n"
   ]
  },
  {
   "cell_type": "code",
   "execution_count": null,
   "id": "7a854703-70aa-47c8-898f-f662de3b2bcd",
   "metadata": {},
   "outputs": [],
   "source": []
  },
  {
   "cell_type": "code",
   "execution_count": null,
   "id": "ff1432d1-d244-4ec4-8fa2-1a3d99df50ea",
   "metadata": {},
   "outputs": [],
   "source": []
  }
 ],
 "metadata": {
  "kernelspec": {
   "display_name": "Python 3 (ipykernel)",
   "language": "python",
   "name": "python3"
  },
  "language_info": {
   "codemirror_mode": {
    "name": "ipython",
    "version": 3
   },
   "file_extension": ".py",
   "mimetype": "text/x-python",
   "name": "python",
   "nbconvert_exporter": "python",
   "pygments_lexer": "ipython3",
   "version": "3.12.4"
  }
 },
 "nbformat": 4,
 "nbformat_minor": 5
}
